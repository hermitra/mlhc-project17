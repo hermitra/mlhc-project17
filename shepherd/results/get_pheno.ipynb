{
 "cells": [
  {
   "cell_type": "code",
   "execution_count": 2,
   "id": "897e115d",
   "metadata": {},
   "outputs": [],
   "source": [
    "import pandas as pd\n",
    "import numpy as np"
   ]
  },
  {
   "cell_type": "code",
   "execution_count": 5,
   "id": "7ce464ad",
   "metadata": {},
   "outputs": [],
   "source": [
    "result = pd.read_csv('second_run_final.tsv', sep='\\t')"
   ]
  },
  {
   "cell_type": "code",
   "execution_count": 9,
   "id": "d338e0fc",
   "metadata": {},
   "outputs": [],
   "source": [
    "pheno = pd.read_csv('../genes_to_phenotype.txt', sep='\\t')"
   ]
  },
  {
   "cell_type": "code",
   "execution_count": 15,
   "id": "63b61f40",
   "metadata": {},
   "outputs": [],
   "source": [
    "for i in [3, 4, 11, 13]:\n",
    "    select = result[result['patient_id'] == ('Group_'+str(i))]\n",
    "    phenotype = pheno[pheno['gene_symbol'].isin(select['Gene name'].tolist())]\n",
    "    phenotype.to_csv('Group_'+str(i)+'_pheno.tsv', sep='\\t')"
   ]
  },
  {
   "cell_type": "code",
   "execution_count": null,
   "id": "7298d99d",
   "metadata": {},
   "outputs": [],
   "source": []
  }
 ],
 "metadata": {
  "kernelspec": {
   "display_name": "Python 3 (ipykernel)",
   "language": "python",
   "name": "python3"
  },
  "language_info": {
   "codemirror_mode": {
    "name": "ipython",
    "version": 3
   },
   "file_extension": ".py",
   "mimetype": "text/x-python",
   "name": "python",
   "nbconvert_exporter": "python",
   "pygments_lexer": "ipython3",
   "version": "3.8.1"
  }
 },
 "nbformat": 4,
 "nbformat_minor": 5
}
