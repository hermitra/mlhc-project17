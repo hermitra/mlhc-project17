{
  "nbformat": 4,
  "nbformat_minor": 0,
  "metadata": {
    "colab": {
      "provenance": []
    },
    "kernelspec": {
      "name": "python3",
      "display_name": "Python 3"
    },
    "language_info": {
      "name": "python"
    }
  },
  "cells": [
    {
      "cell_type": "code",
      "source": [
        "!pip install goatools\n",
        "!pip install graphviz"
      ],
      "metadata": {
        "colab": {
          "base_uri": "https://localhost:8080/"
        },
        "id": "L5vl5zkcCcbz",
        "outputId": "410fba66-762e-461e-8144-f81faf45431c"
      },
      "execution_count": 27,
      "outputs": [
        {
          "output_type": "stream",
          "name": "stdout",
          "text": [
            "Looking in indexes: https://pypi.org/simple, https://us-python.pkg.dev/colab-wheels/public/simple/\n",
            "Requirement already satisfied: goatools in /usr/local/lib/python3.10/dist-packages (1.3.1)\n",
            "Requirement already satisfied: pandas in /usr/local/lib/python3.10/dist-packages (from goatools) (1.5.3)\n",
            "Requirement already satisfied: pydot in /usr/local/lib/python3.10/dist-packages (from goatools) (1.4.2)\n",
            "Requirement already satisfied: openpyxl in /usr/local/lib/python3.10/dist-packages (from goatools) (3.0.10)\n",
            "Requirement already satisfied: docopt in /usr/local/lib/python3.10/dist-packages (from goatools) (0.6.2)\n",
            "Requirement already satisfied: statsmodels in /usr/local/lib/python3.10/dist-packages (from goatools) (0.13.5)\n",
            "Requirement already satisfied: scipy in /usr/local/lib/python3.10/dist-packages (from goatools) (1.10.1)\n",
            "Requirement already satisfied: requests in /usr/local/lib/python3.10/dist-packages (from goatools) (2.27.1)\n",
            "Requirement already satisfied: xlsxwriter in /usr/local/lib/python3.10/dist-packages (from goatools) (3.1.0)\n",
            "Requirement already satisfied: numpy in /usr/local/lib/python3.10/dist-packages (from goatools) (1.22.4)\n",
            "Requirement already satisfied: et-xmlfile in /usr/local/lib/python3.10/dist-packages (from openpyxl->goatools) (1.1.0)\n",
            "Requirement already satisfied: python-dateutil>=2.8.1 in /usr/local/lib/python3.10/dist-packages (from pandas->goatools) (2.8.2)\n",
            "Requirement already satisfied: pytz>=2020.1 in /usr/local/lib/python3.10/dist-packages (from pandas->goatools) (2022.7.1)\n",
            "Requirement already satisfied: pyparsing>=2.1.4 in /usr/local/lib/python3.10/dist-packages (from pydot->goatools) (3.0.9)\n",
            "Requirement already satisfied: certifi>=2017.4.17 in /usr/local/lib/python3.10/dist-packages (from requests->goatools) (2022.12.7)\n",
            "Requirement already satisfied: urllib3<1.27,>=1.21.1 in /usr/local/lib/python3.10/dist-packages (from requests->goatools) (1.26.15)\n",
            "Requirement already satisfied: idna<4,>=2.5 in /usr/local/lib/python3.10/dist-packages (from requests->goatools) (3.4)\n",
            "Requirement already satisfied: charset-normalizer~=2.0.0 in /usr/local/lib/python3.10/dist-packages (from requests->goatools) (2.0.12)\n",
            "Requirement already satisfied: patsy>=0.5.2 in /usr/local/lib/python3.10/dist-packages (from statsmodels->goatools) (0.5.3)\n",
            "Requirement already satisfied: packaging>=21.3 in /usr/local/lib/python3.10/dist-packages (from statsmodels->goatools) (23.1)\n",
            "Requirement already satisfied: six in /usr/local/lib/python3.10/dist-packages (from patsy>=0.5.2->statsmodels->goatools) (1.16.0)\n",
            "Looking in indexes: https://pypi.org/simple, https://us-python.pkg.dev/colab-wheels/public/simple/\n",
            "Requirement already satisfied: graphviz in /usr/local/lib/python3.10/dist-packages (0.20.1)\n"
          ]
        }
      ]
    },
    {
      "cell_type": "code",
      "source": [
        "!pip install pydot"
      ],
      "metadata": {
        "colab": {
          "base_uri": "https://localhost:8080/"
        },
        "id": "xVPd70VJICZr",
        "outputId": "9b5c8b4d-5e59-4385-b76a-52f7b3eccef4"
      },
      "execution_count": 31,
      "outputs": [
        {
          "output_type": "stream",
          "name": "stdout",
          "text": [
            "Looking in indexes: https://pypi.org/simple, https://us-python.pkg.dev/colab-wheels/public/simple/\n",
            "Requirement already satisfied: pydot in /usr/local/lib/python3.10/dist-packages (1.4.2)\n",
            "Requirement already satisfied: pyparsing>=2.1.4 in /usr/local/lib/python3.10/dist-packages (from pydot) (3.0.9)\n"
          ]
        }
      ]
    },
    {
      "cell_type": "code",
      "source": [
        "!git clone https://github.com/tanghaibao/goatools.git"
      ],
      "metadata": {
        "colab": {
          "base_uri": "https://localhost:8080/"
        },
        "id": "kaQPbAwgCds9",
        "outputId": "4682b18c-330e-44bf-afbd-edd3f5fbbae6"
      },
      "execution_count": 12,
      "outputs": [
        {
          "output_type": "stream",
          "name": "stdout",
          "text": [
            "Cloning into 'goatools'...\n",
            "remote: Enumerating objects: 8489, done.\u001b[K\n",
            "remote: Counting objects: 100% (486/486), done.\u001b[K\n",
            "remote: Compressing objects: 100% (233/233), done.\u001b[K\n",
            "remote: Total 8489 (delta 281), reused 434 (delta 246), pack-reused 8003\u001b[K\n",
            "Receiving objects: 100% (8489/8489), 58.71 MiB | 22.08 MiB/s, done.\n",
            "Resolving deltas: 100% (5821/5821), done.\n",
            "Updating files: 100% (504/504), done.\n"
          ]
        }
      ]
    },
    {
      "cell_type": "code",
      "source": [
        "%cd goatools/"
      ],
      "metadata": {
        "colab": {
          "base_uri": "https://localhost:8080/"
        },
        "id": "6RwrEjP-E-gL",
        "outputId": "32db6168-75e3-44ee-a272-f3a2feb0611a"
      },
      "execution_count": 16,
      "outputs": [
        {
          "output_type": "stream",
          "name": "stdout",
          "text": [
            "/content/goatools\n"
          ]
        }
      ]
    },
    {
      "cell_type": "code",
      "source": [
        "!wget http://current.geneontology.org/ontology/go-basic.obo"
      ],
      "metadata": {
        "colab": {
          "base_uri": "https://localhost:8080/"
        },
        "id": "bmo7H96SFC-5",
        "outputId": "32cfff9e-ebca-41c9-b9f1-21e41fcb10e1"
      },
      "execution_count": 18,
      "outputs": [
        {
          "output_type": "stream",
          "name": "stdout",
          "text": [
            "--2023-05-07 02:39:44--  http://current.geneontology.org/ontology/go-basic.obo\n",
            "Resolving current.geneontology.org (current.geneontology.org)... 52.85.247.96, 52.85.247.115, 52.85.247.109, ...\n",
            "Connecting to current.geneontology.org (current.geneontology.org)|52.85.247.96|:80... connected.\n",
            "HTTP request sent, awaiting response... 200 OK\n",
            "Length: 31029423 (30M) [text/obo]\n",
            "Saving to: ‘go-basic.obo’\n",
            "\n",
            "go-basic.obo        100%[===================>]  29.59M   137MB/s    in 0.2s    \n",
            "\n",
            "2023-05-07 02:39:45 (137 MB/s) - ‘go-basic.obo’ saved [31029423/31029423]\n",
            "\n"
          ]
        }
      ]
    },
    {
      "cell_type": "code",
      "source": [
        "!wget http://current.geneontology.org/ontology/subsets/goslim_generic.obo"
      ],
      "metadata": {
        "colab": {
          "base_uri": "https://localhost:8080/"
        },
        "id": "qcQpe9skI2Dt",
        "outputId": "1d84a637-7f40-4401-81a0-bd25b5c5a19b"
      },
      "execution_count": 35,
      "outputs": [
        {
          "output_type": "stream",
          "name": "stdout",
          "text": [
            "--2023-05-07 02:56:14--  http://current.geneontology.org/ontology/subsets/goslim_generic.obo\n",
            "Resolving current.geneontology.org (current.geneontology.org)... 52.85.247.18, 52.85.247.109, 52.85.247.115, ...\n",
            "Connecting to current.geneontology.org (current.geneontology.org)|52.85.247.18|:80... connected.\n",
            "HTTP request sent, awaiting response... 200 OK\n",
            "Length: 113527 (111K) [text/obo]\n",
            "Saving to: ‘goslim_generic.obo’\n",
            "\n",
            "\rgoslim_generic.obo    0%[                    ]       0  --.-KB/s               \rgoslim_generic.obo  100%[===================>] 110.87K  --.-KB/s    in 0.03s   \n",
            "\n",
            "2023-05-07 02:56:15 (3.45 MB/s) - ‘goslim_generic.obo’ saved [113527/113527]\n",
            "\n"
          ]
        }
      ]
    },
    {
      "cell_type": "code",
      "source": [
        "!python scripts/plot_go_term.py --term=GO:0044325"
      ],
      "metadata": {
        "colab": {
          "base_uri": "https://localhost:8080/"
        },
        "id": "UYOcZFkWD5UJ",
        "outputId": "57fa6a36-9c74-4bc6-ecd2-bdacebf730fd"
      },
      "execution_count": 33,
      "outputs": [
        {
          "output_type": "stream",
          "name": "stdout",
          "text": [
            "go-basic.obo: fmt(1.2) rel(2023-04-01) 46,575 Terms\n",
            "GO:0044325\tlevel-03\tdepth-03\ttransmembrane transporter binding [molecular_function]\n",
            "all parents: {'GO:0003674', 'GO:0005515', 'GO:0005488'}\n",
            "all children: set()\n",
            "lineage info for terms ['GO:0044325'] written to GO_lineage.pdf\n"
          ]
        }
      ]
    },
    {
      "cell_type": "code",
      "source": [
        "!python scripts/plot_go_term.py --term=GO:0044325 --gml"
      ],
      "metadata": {
        "colab": {
          "base_uri": "https://localhost:8080/"
        },
        "id": "uwwBv16-HuDH",
        "outputId": "ab127928-3ff1-4b79-dc28-988982b1041e"
      },
      "execution_count": 32,
      "outputs": [
        {
          "output_type": "stream",
          "name": "stdout",
          "text": [
            "go-basic.obo: fmt(1.2) rel(2023-04-01) 46,575 Terms\n",
            "GO:0044325\tlevel-03\tdepth-03\ttransmembrane transporter binding [molecular_function]\n",
            "all parents: {'GO:0003674', 'GO:0005515', 'GO:0005488'}\n",
            "all children: set()\n",
            "GML graph written to GO_lineage.gml\n",
            "lineage info for terms ['GO:0044325'] written to GO_lineage.pdf\n"
          ]
        }
      ]
    },
    {
      "cell_type": "code",
      "source": [
        "!python scripts/go_plot.py --go_file=tests/data/go_plot/go_ad.txt -o ad_r0.png"
      ],
      "metadata": {
        "colab": {
          "base_uri": "https://localhost:8080/"
        },
        "id": "kmBj6FFSIrJa",
        "outputId": "9bb18b1e-fe79-464d-da2e-28e9026e0559"
      },
      "execution_count": 43,
      "outputs": [
        {
          "output_type": "stream",
          "name": "stdout",
          "text": [
            "go-basic.obo: fmt(1.2) rel(2023-04-01) 46,575 Terms\n",
            " GoSubDag:   4 sources in  32 GOs rcnt(True). 0 alt GO IDs\n",
            " GoSubDag: namedtuple fields: NS level depth GO alt GO_name dcnt D1 id\n",
            " GoSubDag: relationships: set()\n",
            "        GO:0005575  # CC  4042 L00 D00       cellular_component\n",
            "#f1fbfd GO:0110165  # CC  1880 L01 D01 A     cellular anatomical entity\n",
            "#e6fad2 GO:0009986  # CC     0 L02 D02 A     cell surface\n",
            "        GO:0003674  # MF 11260 L00 D00       molecular_function\n",
            "#f1fbfd GO:0005215  # MF  1072 L01 D01 B     transporter activity\n",
            "#f1fbfd GO:0005488  # MF  1836 L01 D01 A     binding\n",
            "        GO:0022857  # MF  1020 L02 D02 B     transmembrane transporter activity\n",
            "        GO:0005515  # MF   918 L02 D02 A     protein binding\n",
            "        GO:0022803  # MF   179 L03 D03 B     passive transmembrane transporter activity\n",
            "        GO:0015075  # MF   398 L03 D03 B     monoatomic ion transmembrane transporter activity\n",
            "        GO:1901702  # MF   293 L03 D03 B     salt transmembrane transporter activity\n",
            "        GO:0015318  # MF   390 L03 D03 B     inorganic molecular entity transmembrane transporter activity\n",
            "#fad2fa GO:0044325  # MF     0 L03 D03 A     transmembrane transporter binding\n",
            "        GO:0015267  # MF   178 L04 D04 B     channel activity\n",
            "        GO:0008324  # MF   337 L04 D04 B     monoatomic cation transmembrane transporter activity\n",
            "        GO:0022890  # MF   306 L04 D04 B     inorganic cation transmembrane transporter activity\n",
            "        GO:0005216  # MF   137 L04 D05 B     monoatomic ion channel activity\n",
            "        GO:0022836  # MF   120 L05 D05 B     gated channel activity\n",
            "        GO:0046873  # MF   212 L05 D05 B     metal ion transmembrane transporter activity\n",
            "        GO:0022839  # MF   113 L05 D06 B     monoatomic ion gated channel activity\n",
            "        GO:0022832  # MF    39 L06 D06 B     voltage-gated channel activity\n",
            "        GO:0005261  # MF    90 L05 D06 B     monoatomic cation channel activity\n",
            "        GO:0015079  # MF    43 L04 D06 B     potassium ion transmembrane transporter activity\n",
            "        GO:0022834  # MF    57 L06 D06 B     ligand-gated channel activity\n",
            "        GO:0005244  # MF    38 L06 D07 B     voltage-gated monoatomic ion channel activity\n",
            "        GO:0005267  # MF    27 L05 D07 B     potassium channel activity\n",
            "        GO:0015276  # MF    54 L06 D07 B     ligand-gated monoatomic ion channel activity\n",
            "        GO:0022843  # MF    31 L06 D08 B     voltage-gated monoatomic cation channel activity\n",
            "        GO:0099094  # MF    30 L06 D08 B     ligand-gated monoatomic cation channel activity\n",
            "        GO:0005249  # MF    15 L06 D09 B     voltage-gated potassium channel activity\n",
            "#fafad2 GO:0005251  # MF     0 L07 D10 B     delayed rectifier potassium channel activity\n",
            "#d2d2fa GO:0005242  # MF     2 L07 D10 B     inward rectifier potassium channel activity\n",
            "    4 usr  32 GOs  WROTE: heartjogging6_r0.png\n"
          ]
        }
      ]
    }
  ]
}